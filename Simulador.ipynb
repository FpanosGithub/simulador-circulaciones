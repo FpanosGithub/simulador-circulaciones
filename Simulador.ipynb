{
 "cells": [
  {
   "cell_type": "markdown",
   "id": "545d695b-b480-469a-982a-e9fc02a92e68",
   "metadata": {
    "tags": []
   },
   "source": [
    "<img src=\"./imagenes/adif_g.jpeg\" />\n",
    "\n",
    "\n",
    "# SIMULADOR DE CIRCULACIONES DE VAGONES Y CAMBIOS\n",
    "- Fecha: 12 de Junio de 2022\n",
    "- Autor: Francisco Paños\n"
   ]
  },
  {
   "cell_type": "markdown",
   "id": "cbabb904",
   "metadata": {
    "tags": []
   },
   "source": [
    "LA SIMULACIÓN DE UNA CIRCULACIÓN INCLUYE LAS SIGUIENTES FASES:\n",
    "\n",
    "\t1. Establecemos los parámetros de simulación:\n",
    "\t\t1.1 Que material (Cada circulación es de 1 vagón y sus ejes)\n",
    "\t\t1.2 Punto de partida y punto de llegada\n",
    "\t\t1.3 Tiempo de la circulación\n",
    "\t2. Generamos todos los mensajes de circulación que se lanzarán\n",
    "    3. Iniciamos la simulación. Cada x segundos se lanza un mensaje al servidor 'mercave-backend'.\n",
    "\t4. Comprobamos resultados\n",
    "\n",
    "LA SIMULACIÓN DE UNA OPERACIÓN DE CAMBIO:\n",
    "\n",
    "\t1. Establecemos los parámetros de simulación:\n",
    "\t\t1.1 Que material (los ejes que van en una composición)\n",
    "\t\t1.2 Que Cambiador\n",
    "\t2. Generamos el mensaje de la operación de CAMBIO que se lanzará\n",
    "    3. Lanzamos el mensaje al servidor 'mercave-backend'.\n",
    "\t4. Comprobamos resultados"
   ]
  },
  {
   "cell_type": "markdown",
   "id": "cdb1d0bc-6f5a-423a-b350-7edee0720025",
   "metadata": {},
   "source": [
    "## 0. Importaciones de las librerias e iniciacion del objeto simulador"
   ]
  },
  {
   "cell_type": "code",
   "execution_count": 1,
   "id": "6a508f3e",
   "metadata": {
    "tags": []
   },
   "outputs": [],
   "source": [
    "from MotorSimulacion import SimuladorCirculacion, SimuladorCambio\n",
    "import folium"
   ]
  },
  {
   "cell_type": "markdown",
   "id": "7261a598-90f2-4d34-a392-ea9c76780bbe",
   "metadata": {},
   "source": [
    "## 1. Establecemos los parámetros para generar la simulación"
   ]
  },
  {
   "cell_type": "code",
   "execution_count": 2,
   "id": "0764118c",
   "metadata": {},
   "outputs": [],
   "source": [
    "Algeciras = [-5.4284, 36.1267]\n",
    "Córdoba = [-4.8237, 37.8755]\n",
    "La_Gineta = [-1.9104, 39.0559]\n",
    "Alcazar = [-3.2155, 39.4048]\n",
    "Abroñigal = [-3.6768, 40.3872]\n",
    "Fuencarral = [-3.6822, 40.5050]\n",
    "Vicalvaro = [-3.5800, 40.4200]\n",
    "Valencia = [-0.3595, 39.4396]\n",
    "Tarragona = [1.2231, 41.1103]\n",
    "Zaragoza = [-1.0517, 41.6441]\n",
    "Venta_Baños = [-4.504, 41.9115]\n",
    "Irun = [-1.7893, 43.3477]\n",
    "Leon = [-5.5800, 42.5814]\n",
    "Avilés = [-5.8629, 43.5556]\n",
    "Redondela = [-8.6177, 42.2860]\n",
    "\n",
    "# Cambiadores\n",
    "Cambiador_01 = 'La_Gineta'\n",
    "cambiador_02 = 'Cordoba'\n",
    "cambiador_03 = 'Irun'\n",
    "\n",
    "vagon_01 = {\n",
    "    'codigo' : 'V-ADIF-01',\n",
    "    'ejes' :  ['TR0001','TR0002','TR0003','TR0004']}\n",
    "vagon_02 = {\n",
    "    'codigo' : 'V-RENF-01',\n",
    "    'ejes' :  ['TR0025','TR0026','TR0027','TR0028']}\n",
    "vagon_03 = {\n",
    "    'codigo' : 'V-ADIF-02',\n",
    "    'ejes' :  ['TR0030','TR0031','TR0032','TR0033']}\n",
    "\n",
    "composicion_01 = [vagon_01, vagon_02, vagon_03]\n",
    "\n",
    "tiempo_recorrido   = 3.00    # horas\n",
    "intervalo_mensajes = 900     # Segundos = 15 min. (Cada cuanto tiempo lanzamos un mensaje de circulación)"
   ]
  },
  {
   "cell_type": "markdown",
   "id": "ddfbd2ed",
   "metadata": {},
   "source": [
    "## 2. Inicializamos la simulación"
   ]
  },
  {
   "cell_type": "code",
   "execution_count": 3,
   "id": "c041e0ac",
   "metadata": {},
   "outputs": [],
   "source": [
    "circulacion_01 = SimuladorCirculacion(composicion_01, Córdoba, Irun, tiempo_recorrido, intervalo_mensajes)\n",
    "cambio_01 = SimuladorCambio(composicion_01, cambiador_03, 'UICIB')"
   ]
  },
  {
   "cell_type": "markdown",
   "id": "2f543a1f",
   "metadata": {},
   "source": [
    "## 3. Mostramos la simulación que vamos a realizar"
   ]
  },
  {
   "cell_type": "code",
   "execution_count": 4,
   "id": "462515c4",
   "metadata": {},
   "outputs": [
    {
     "name": "stdout",
     "output_type": "stream",
     "text": [
      "!!!!!!!!!!!!!!!!!!!!!!!!!!!!!!!!!!!!!!!!!\n",
      "Desde: -4.8237, 37.8755\n",
      "Hasta: -1.7893, 43.3477\n",
      "Vagones: \n",
      "{'codigo': 'V-ADIF-01', 'ejes': ['TR0001', 'TR0002', 'TR0003', 'TR0004']}\n",
      "{'codigo': 'V-RENF-01', 'ejes': ['TR0025', 'TR0026', 'TR0027', 'TR0028']}\n",
      "{'codigo': 'V-ADIF-02', 'ejes': ['TR0030', 'TR0031', 'TR0032', 'TR0033']}\n",
      "!!!!!!!!!!!!!!!!!!!!!!!!!!!!!!!!!!!!!!!!!\n",
      "Tiempo de recorrido:  3.0 horas\n",
      "Número de mensajes de la circulación:  12\n"
     ]
    },
    {
     "data": {
      "text/html": [
       "<div style=\"width:100%;\"><div style=\"position:relative;width:100%;height:0;padding-bottom:60%;\"><span style=\"color:#565656\">Make this Notebook Trusted to load map: File -> Trust Notebook</span><iframe srcdoc=\"&lt;!DOCTYPE html&gt;\n",
       "&lt;head&gt;    \n",
       "    &lt;meta http-equiv=&quot;content-type&quot; content=&quot;text/html; charset=UTF-8&quot; /&gt;\n",
       "    \n",
       "        &lt;script&gt;\n",
       "            L_NO_TOUCH = false;\n",
       "            L_DISABLE_3D = false;\n",
       "        &lt;/script&gt;\n",
       "    \n",
       "    &lt;style&gt;html, body {width: 100%;height: 100%;margin: 0;padding: 0;}&lt;/style&gt;\n",
       "    &lt;style&gt;#map {position:absolute;top:0;bottom:0;right:0;left:0;}&lt;/style&gt;\n",
       "    &lt;script src=&quot;https://cdn.jsdelivr.net/npm/leaflet@1.6.0/dist/leaflet.js&quot;&gt;&lt;/script&gt;\n",
       "    &lt;script src=&quot;https://code.jquery.com/jquery-1.12.4.min.js&quot;&gt;&lt;/script&gt;\n",
       "    &lt;script src=&quot;https://maxcdn.bootstrapcdn.com/bootstrap/3.2.0/js/bootstrap.min.js&quot;&gt;&lt;/script&gt;\n",
       "    &lt;script src=&quot;https://cdnjs.cloudflare.com/ajax/libs/Leaflet.awesome-markers/2.0.2/leaflet.awesome-markers.js&quot;&gt;&lt;/script&gt;\n",
       "    &lt;link rel=&quot;stylesheet&quot; href=&quot;https://cdn.jsdelivr.net/npm/leaflet@1.6.0/dist/leaflet.css&quot;/&gt;\n",
       "    &lt;link rel=&quot;stylesheet&quot; href=&quot;https://maxcdn.bootstrapcdn.com/bootstrap/3.2.0/css/bootstrap.min.css&quot;/&gt;\n",
       "    &lt;link rel=&quot;stylesheet&quot; href=&quot;https://maxcdn.bootstrapcdn.com/bootstrap/3.2.0/css/bootstrap-theme.min.css&quot;/&gt;\n",
       "    &lt;link rel=&quot;stylesheet&quot; href=&quot;https://maxcdn.bootstrapcdn.com/font-awesome/4.6.3/css/font-awesome.min.css&quot;/&gt;\n",
       "    &lt;link rel=&quot;stylesheet&quot; href=&quot;https://cdnjs.cloudflare.com/ajax/libs/Leaflet.awesome-markers/2.0.2/leaflet.awesome-markers.css&quot;/&gt;\n",
       "    &lt;link rel=&quot;stylesheet&quot; href=&quot;https://cdn.jsdelivr.net/gh/python-visualization/folium/folium/templates/leaflet.awesome.rotate.min.css&quot;/&gt;\n",
       "    \n",
       "            &lt;meta name=&quot;viewport&quot; content=&quot;width=device-width,\n",
       "                initial-scale=1.0, maximum-scale=1.0, user-scalable=no&quot; /&gt;\n",
       "            &lt;style&gt;\n",
       "                #map_579dbc1272219aa715cb37aa3efd086b {\n",
       "                    position: relative;\n",
       "                    width: 100.0%;\n",
       "                    height: 100.0%;\n",
       "                    left: 0.0%;\n",
       "                    top: 0.0%;\n",
       "                }\n",
       "            &lt;/style&gt;\n",
       "        \n",
       "&lt;/head&gt;\n",
       "&lt;body&gt;    \n",
       "    \n",
       "            &lt;div class=&quot;folium-map&quot; id=&quot;map_579dbc1272219aa715cb37aa3efd086b&quot; &gt;&lt;/div&gt;\n",
       "        \n",
       "&lt;/body&gt;\n",
       "&lt;script&gt;    \n",
       "    \n",
       "            var map_579dbc1272219aa715cb37aa3efd086b = L.map(\n",
       "                &quot;map_579dbc1272219aa715cb37aa3efd086b&quot;,\n",
       "                {\n",
       "                    center: [39.8, -2.9019],\n",
       "                    crs: L.CRS.EPSG3857,\n",
       "                    zoom: 6,\n",
       "                    zoomControl: true,\n",
       "                    preferCanvas: false,\n",
       "                }\n",
       "            );\n",
       "\n",
       "            \n",
       "\n",
       "        \n",
       "    \n",
       "            var tile_layer_717012bedc29a9defd285fd4c49aa393 = L.tileLayer(\n",
       "                &quot;https://stamen-tiles-{s}.a.ssl.fastly.net/toner/{z}/{x}/{y}.png&quot;,\n",
       "                {&quot;attribution&quot;: &quot;Map tiles by \\u003ca href=\\&quot;http://stamen.com\\&quot;\\u003eStamen Design\\u003c/a\\u003e, under \\u003ca href=\\&quot;http://creativecommons.org/licenses/by/3.0\\&quot;\\u003eCC BY 3.0\\u003c/a\\u003e. Data by \\u0026copy; \\u003ca href=\\&quot;http://openstreetmap.org\\&quot;\\u003eOpenStreetMap\\u003c/a\\u003e, under \\u003ca href=\\&quot;http://www.openstreetmap.org/copyright\\&quot;\\u003eODbL\\u003c/a\\u003e.&quot;, &quot;detectRetina&quot;: false, &quot;maxNativeZoom&quot;: 18, &quot;maxZoom&quot;: 18, &quot;minZoom&quot;: 0, &quot;noWrap&quot;: false, &quot;opacity&quot;: 1, &quot;subdomains&quot;: &quot;abc&quot;, &quot;tms&quot;: false}\n",
       "            ).addTo(map_579dbc1272219aa715cb37aa3efd086b);\n",
       "        \n",
       "    \n",
       "            var circle_marker_dea29b5a68e58767fe70a76c4655ff16 = L.circleMarker(\n",
       "                [37.8755, -4.8237],\n",
       "                {&quot;bubblingMouseEvents&quot;: true, &quot;color&quot;: &quot;green&quot;, &quot;dashArray&quot;: null, &quot;dashOffset&quot;: null, &quot;fill&quot;: true, &quot;fillColor&quot;: &quot;blue&quot;, &quot;fillOpacity&quot;: 0.2, &quot;fillRule&quot;: &quot;evenodd&quot;, &quot;lineCap&quot;: &quot;round&quot;, &quot;lineJoin&quot;: &quot;round&quot;, &quot;opacity&quot;: 1.0, &quot;radius&quot;: 10, &quot;stroke&quot;: true, &quot;weight&quot;: 3}\n",
       "            ).addTo(map_579dbc1272219aa715cb37aa3efd086b);\n",
       "        \n",
       "    \n",
       "        var popup_79c0a58f7cbfabc2ba6b0c6ef96e9fd3 = L.popup({&quot;maxWidth&quot;: 200});\n",
       "\n",
       "        \n",
       "            var html_715e8e3f6cfbbbf85b5f7b2a09e8946b = $(`&lt;div id=&quot;html_715e8e3f6cfbbbf85b5f7b2a09e8946b&quot; style=&quot;width: 100.0%; height: 100.0%;&quot;&gt;&lt;b&gt;Inicio de la circulación&lt;/b&gt;&lt;br&gt;&lt;b&gt;Vagón: &lt;/b&gt;V-ADIF-01&lt;br&gt;&lt;b&gt;Latitud: &lt;/b&gt;37.8755&lt;br&gt;&lt;b&gt;Longitud: &lt;/b&gt;-4.8237&lt;/div&gt;`)[0];\n",
       "            popup_79c0a58f7cbfabc2ba6b0c6ef96e9fd3.setContent(html_715e8e3f6cfbbbf85b5f7b2a09e8946b);\n",
       "        \n",
       "\n",
       "        circle_marker_dea29b5a68e58767fe70a76c4655ff16.bindPopup(popup_79c0a58f7cbfabc2ba6b0c6ef96e9fd3)\n",
       "        ;\n",
       "\n",
       "        \n",
       "    \n",
       "    \n",
       "            var circle_marker_8bd144de9ca806762de8d8b72c903c35 = L.circleMarker(\n",
       "                [43.3477, -1.7893],\n",
       "                {&quot;bubblingMouseEvents&quot;: true, &quot;color&quot;: &quot;darkred&quot;, &quot;dashArray&quot;: null, &quot;dashOffset&quot;: null, &quot;fill&quot;: true, &quot;fillColor&quot;: &quot;red&quot;, &quot;fillOpacity&quot;: 0.2, &quot;fillRule&quot;: &quot;evenodd&quot;, &quot;lineCap&quot;: &quot;round&quot;, &quot;lineJoin&quot;: &quot;round&quot;, &quot;opacity&quot;: 1.0, &quot;radius&quot;: 10, &quot;stroke&quot;: true, &quot;weight&quot;: 3}\n",
       "            ).addTo(map_579dbc1272219aa715cb37aa3efd086b);\n",
       "        \n",
       "    \n",
       "        var popup_3fb183a0a7b48b25d406f35a6e508dbd = L.popup({&quot;maxWidth&quot;: 200});\n",
       "\n",
       "        \n",
       "            var html_95f1142ddce19738d9231049898dbb23 = $(`&lt;div id=&quot;html_95f1142ddce19738d9231049898dbb23&quot; style=&quot;width: 100.0%; height: 100.0%;&quot;&gt;&lt;b&gt;Final de la circulación&lt;/b&gt;&lt;br&gt;&lt;b&gt;Vagón: &lt;/b&gt;V-ADIF-01&lt;br&gt;&lt;b&gt;Latitud: &lt;/b&gt;43.3477&lt;br&gt;&lt;b&gt;Longitud: &lt;/b&gt;-1.7893&lt;/div&gt;`)[0];\n",
       "            popup_3fb183a0a7b48b25d406f35a6e508dbd.setContent(html_95f1142ddce19738d9231049898dbb23);\n",
       "        \n",
       "\n",
       "        circle_marker_8bd144de9ca806762de8d8b72c903c35.bindPopup(popup_3fb183a0a7b48b25d406f35a6e508dbd)\n",
       "        ;\n",
       "\n",
       "        \n",
       "    \n",
       "    \n",
       "            var circle_0318c42fcb39d459b037b48c1f8ef9da = L.circle(\n",
       "                [38.787533333333336, -4.317966666666666],\n",
       "                {&quot;bubblingMouseEvents&quot;: true, &quot;color&quot;: &quot;grey&quot;, &quot;dashArray&quot;: null, &quot;dashOffset&quot;: null, &quot;fill&quot;: false, &quot;fillColor&quot;: &quot;grey&quot;, &quot;fillOpacity&quot;: 0.2, &quot;fillRule&quot;: &quot;evenodd&quot;, &quot;lineCap&quot;: &quot;round&quot;, &quot;lineJoin&quot;: &quot;round&quot;, &quot;opacity&quot;: 1.0, &quot;radius&quot;: 5000, &quot;stroke&quot;: true, &quot;weight&quot;: 3}\n",
       "            ).addTo(map_579dbc1272219aa715cb37aa3efd086b);\n",
       "        \n",
       "    \n",
       "        var popup_cb4afd7c88dbb25aae60d721fc444467 = L.popup({&quot;maxWidth&quot;: &quot;100%&quot;});\n",
       "\n",
       "        \n",
       "            var html_b65224ec67270b77114f1fc84b17e760 = $(`&lt;div id=&quot;html_b65224ec67270b77114f1fc84b17e760&quot; style=&quot;width: 100.0%; height: 100.0%;&quot;&gt;posición&lt;/div&gt;`)[0];\n",
       "            popup_cb4afd7c88dbb25aae60d721fc444467.setContent(html_b65224ec67270b77114f1fc84b17e760);\n",
       "        \n",
       "\n",
       "        circle_0318c42fcb39d459b037b48c1f8ef9da.bindPopup(popup_cb4afd7c88dbb25aae60d721fc444467)\n",
       "        ;\n",
       "\n",
       "        \n",
       "    \n",
       "    \n",
       "            var circle_bd801a66122dafa1323b0014da903a9e = L.circle(\n",
       "                [40.15558333333334, -3.5593666666666666],\n",
       "                {&quot;bubblingMouseEvents&quot;: true, &quot;color&quot;: &quot;grey&quot;, &quot;dashArray&quot;: null, &quot;dashOffset&quot;: null, &quot;fill&quot;: false, &quot;fillColor&quot;: &quot;grey&quot;, &quot;fillOpacity&quot;: 0.2, &quot;fillRule&quot;: &quot;evenodd&quot;, &quot;lineCap&quot;: &quot;round&quot;, &quot;lineJoin&quot;: &quot;round&quot;, &quot;opacity&quot;: 1.0, &quot;radius&quot;: 5000, &quot;stroke&quot;: true, &quot;weight&quot;: 3}\n",
       "            ).addTo(map_579dbc1272219aa715cb37aa3efd086b);\n",
       "        \n",
       "    \n",
       "        var popup_d5282122fed3c8db7b38d90036e179af = L.popup({&quot;maxWidth&quot;: &quot;100%&quot;});\n",
       "\n",
       "        \n",
       "            var html_16aa8050d56982c41a8c786ea44c55a3 = $(`&lt;div id=&quot;html_16aa8050d56982c41a8c786ea44c55a3&quot; style=&quot;width: 100.0%; height: 100.0%;&quot;&gt;posición&lt;/div&gt;`)[0];\n",
       "            popup_d5282122fed3c8db7b38d90036e179af.setContent(html_16aa8050d56982c41a8c786ea44c55a3);\n",
       "        \n",
       "\n",
       "        circle_bd801a66122dafa1323b0014da903a9e.bindPopup(popup_d5282122fed3c8db7b38d90036e179af)\n",
       "        ;\n",
       "\n",
       "        \n",
       "    \n",
       "    \n",
       "            var circle_bed49fac597ce4183a18a6dc053e47a9 = L.circle(\n",
       "                [41.523633333333336, -2.8007666666666666],\n",
       "                {&quot;bubblingMouseEvents&quot;: true, &quot;color&quot;: &quot;grey&quot;, &quot;dashArray&quot;: null, &quot;dashOffset&quot;: null, &quot;fill&quot;: false, &quot;fillColor&quot;: &quot;grey&quot;, &quot;fillOpacity&quot;: 0.2, &quot;fillRule&quot;: &quot;evenodd&quot;, &quot;lineCap&quot;: &quot;round&quot;, &quot;lineJoin&quot;: &quot;round&quot;, &quot;opacity&quot;: 1.0, &quot;radius&quot;: 5000, &quot;stroke&quot;: true, &quot;weight&quot;: 3}\n",
       "            ).addTo(map_579dbc1272219aa715cb37aa3efd086b);\n",
       "        \n",
       "    \n",
       "        var popup_ca05865b24de4093d489e1829ce978c7 = L.popup({&quot;maxWidth&quot;: &quot;100%&quot;});\n",
       "\n",
       "        \n",
       "            var html_e06d86f7c08e0a16bff16f6f90c6373e = $(`&lt;div id=&quot;html_e06d86f7c08e0a16bff16f6f90c6373e&quot; style=&quot;width: 100.0%; height: 100.0%;&quot;&gt;posición&lt;/div&gt;`)[0];\n",
       "            popup_ca05865b24de4093d489e1829ce978c7.setContent(html_e06d86f7c08e0a16bff16f6f90c6373e);\n",
       "        \n",
       "\n",
       "        circle_bed49fac597ce4183a18a6dc053e47a9.bindPopup(popup_ca05865b24de4093d489e1829ce978c7)\n",
       "        ;\n",
       "\n",
       "        \n",
       "    \n",
       "    \n",
       "            var circle_cb7b2491aac8da74d120f0c00e7de076 = L.circle(\n",
       "                [42.89168333333333, -2.0421666666666667],\n",
       "                {&quot;bubblingMouseEvents&quot;: true, &quot;color&quot;: &quot;grey&quot;, &quot;dashArray&quot;: null, &quot;dashOffset&quot;: null, &quot;fill&quot;: false, &quot;fillColor&quot;: &quot;grey&quot;, &quot;fillOpacity&quot;: 0.2, &quot;fillRule&quot;: &quot;evenodd&quot;, &quot;lineCap&quot;: &quot;round&quot;, &quot;lineJoin&quot;: &quot;round&quot;, &quot;opacity&quot;: 1.0, &quot;radius&quot;: 5000, &quot;stroke&quot;: true, &quot;weight&quot;: 3}\n",
       "            ).addTo(map_579dbc1272219aa715cb37aa3efd086b);\n",
       "        \n",
       "    \n",
       "        var popup_2ce0c7ff832dc793e4eac893b6fbec69 = L.popup({&quot;maxWidth&quot;: &quot;100%&quot;});\n",
       "\n",
       "        \n",
       "            var html_8985116d861e99bd4cf838bb3e7f8dc0 = $(`&lt;div id=&quot;html_8985116d861e99bd4cf838bb3e7f8dc0&quot; style=&quot;width: 100.0%; height: 100.0%;&quot;&gt;posición&lt;/div&gt;`)[0];\n",
       "            popup_2ce0c7ff832dc793e4eac893b6fbec69.setContent(html_8985116d861e99bd4cf838bb3e7f8dc0);\n",
       "        \n",
       "\n",
       "        circle_cb7b2491aac8da74d120f0c00e7de076.bindPopup(popup_2ce0c7ff832dc793e4eac893b6fbec69)\n",
       "        ;\n",
       "\n",
       "        \n",
       "    \n",
       "&lt;/script&gt;\" style=\"position:absolute;width:100%;height:100%;left:0;top:0;border:none !important;\" allowfullscreen webkitallowfullscreen mozallowfullscreen></iframe></div></div>"
      ],
      "text/plain": [
       "<folium.folium.Map at 0x109a7dd50>"
      ]
     },
     "execution_count": 4,
     "metadata": {},
     "output_type": "execute_result"
    }
   ],
   "source": [
    "# Tiles: 'OpenStreetMap', 'Stamen Terrain', 'Stamen Toner', 'Stamen Watercolor', 'CartoDB positron', 'CartoDB dark_matter'\n",
    "tiles = \"Stamen Toner\"\n",
    "mapa = folium.Map((39.8000, -2.9019), tiles=tiles, zoom_start=6)\n",
    "circulacion_01.mostrar(mapa)\n",
    "mapa"
   ]
  },
  {
   "cell_type": "markdown",
   "id": "d39485e0",
   "metadata": {},
   "source": [
    "## 4. Arrancamos la simulación"
   ]
  },
  {
   "cell_type": "code",
   "execution_count": 5,
   "id": "03bfa3c8",
   "metadata": {},
   "outputs": [
    {
     "name": "stdout",
     "output_type": "stream",
     "text": [
      "Iniciando simulación de circulación en: 2022-11-06 18:58:20.658256\n",
      "Vagón: V-ADIF-01, en: 2022-11-06 18:58:20.658283\n",
      "url: http://localhost:8000/streaming/msg_circ\n",
      "auth: ('mercave', 'Mercave2022!')\n",
      "!!!!!!!!!!!!!!!!!!!!!!!!!!!!!!!!!!!!!!!!!\n",
      "Vagón: V-RENF-01, en: 2022-11-06 18:58:33.472724\n",
      "url: http://localhost:8000/streaming/msg_circ\n",
      "auth: ('mercave', 'Mercave2022!')\n",
      "!!!!!!!!!!!!!!!!!!!!!!!!!!!!!!!!!!!!!!!!!\n",
      "Vagón: V-ADIF-02, en: 2022-11-06 18:58:41.756396\n",
      "url: http://localhost:8000/streaming/msg_circ\n",
      "auth: ('mercave', 'Mercave2022!')\n",
      "!!!!!!!!!!!!!!!!!!!!!!!!!!!!!!!!!!!!!!!!!\n"
     ]
    }
   ],
   "source": [
    "# Ejecutamos la secuencia de simulaiones. Cada circulación durará el tiempo de recorrido indicado\n",
    "circulacion_01.ejecutar_simulacion()\n",
    "#cambio_01.ejecutar_simulacion()\n"
   ]
  },
  {
   "cell_type": "code",
   "execution_count": null,
   "id": "210ff1dd",
   "metadata": {},
   "outputs": [],
   "source": []
  }
 ],
 "metadata": {
  "kernelspec": {
   "display_name": "Python 3.10.4 64-bit",
   "language": "python",
   "name": "python3"
  },
  "language_info": {
   "codemirror_mode": {
    "name": "ipython",
    "version": 3
   },
   "file_extension": ".py",
   "mimetype": "text/x-python",
   "name": "python",
   "nbconvert_exporter": "python",
   "pygments_lexer": "ipython3",
   "version": "3.10.4"
  },
  "vscode": {
   "interpreter": {
    "hash": "aee8b7b246df8f9039afb4144a1f6fd8d2ca17a180786b69acc140d282b71a49"
   }
  }
 },
 "nbformat": 4,
 "nbformat_minor": 5
}
